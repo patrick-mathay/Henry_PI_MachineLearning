{
 "cells": [
  {
   "cell_type": "markdown",
   "metadata": {},
   "source": [
    "# Consulta 05"
   ]
  },
  {
   "cell_type": "markdown",
   "metadata": {},
   "source": [
    "Esta consulta devuelve un diccionario con el nombre del desarrollador como llave y una lista con la cantidad total de registros de rese;as de usuarios que se encuentren categorizados con un análisis de sentimiento como valor positivo o negativo, en caso de no estar categorizados o encontrarse arroja el mensaje \"No se encontró información sobre el desarrollador '...'\".\n",
    "\n",
    "Ejemplo de retorno: {'Valve' : [Negative = 182, Positive = 278]}\n",
    "\n"
   ]
  },
  {
   "cell_type": "markdown",
   "metadata": {},
   "source": [
    "*Importar las librerías necesarias para el procesamiento de los datos*"
   ]
  },
  {
   "cell_type": "code",
   "execution_count": 1,
   "metadata": {},
   "outputs": [],
   "source": [
    "import pandas as pd\n"
   ]
  },
  {
   "cell_type": "markdown",
   "metadata": {},
   "source": [
    "*Importamos los archivos con los que vamos a trabajar la consulta*"
   ]
  },
  {
   "cell_type": "code",
   "execution_count": 2,
   "metadata": {},
   "outputs": [],
   "source": [
    "games = pd.read_parquet(r'C:\\Users\\Owner\\Desktop\\LABS\\Proyecto_STEAM\\datos_STEAM\\parquet\\games_clean.parquet')\n",
    "sentiment = pd.read_parquet(r'C:\\Users\\Owner\\Desktop\\LABS\\Proyecto_STEAM\\datos_STEAM\\parquet\\reviews_clean_sentiment.parquet')"
   ]
  },
  {
   "cell_type": "markdown",
   "metadata": {},
   "source": [
    "*Realizamos una copia para trabajar sobre ella y mantener los datos intactos en el archivo original.*"
   ]
  },
  {
   "cell_type": "code",
   "execution_count": 3,
   "metadata": {},
   "outputs": [],
   "source": [
    "games_copy = games.copy()\n",
    "sentiment_copy = sentiment.copy()"
   ]
  },
  {
   "cell_type": "markdown",
   "metadata": {},
   "source": [
    "*Realizamos las siguientes acciones:*\n",
    "1. Combinar conjuntos de datos en las columnas apropiadas ('item_id' en reviews y 'id' en games).\n",
    "2. Filtrar las filas donde el puntaje de sentimiento es positivo (2) o negativo (0), excluyendo los sentimientos neutrales.\n",
    "3. Agrupar los datos filtrados por desarrollador y puntaje de sentimiento, contando la cantidad de reseñas.\n",
    "4. Verificar si el desarrollador está presente en el DataFrame y maneja excepciones si no lo está.\n",
    "5. Extraer la cantidad de reseñas positivas y negativas para el desarrollador especificado.\n",
    "6. Convertir las cantidades en un formato de lista con claves especificadas.\n",
    "7. Retornar un diccionario con las cantidades de reseñas positivas y negativas para el desarrollador dado. Si el desarrollador no se encuentra en los datos, devuelve un mensaje indicando que no se encontró información sobre ese desarrollador."
   ]
  },
  {
   "cell_type": "code",
   "execution_count": 4,
   "metadata": {},
   "outputs": [],
   "source": [
    "def developer_reviews_analysis(desarrollador):\n",
    "    # Combinar conjuntos de datos en las columnas apropiadas ('item_id' en reviews y 'id' en games)\n",
    "    merged_data = pd.merge(sentiment_copy, games_copy, left_on='item_id', right_on='id')\n",
    "    \n",
    "    # Filtrar filas donde el puntaje de sentimiento es positivo (2) o negativo (0)\n",
    "    filtered_data = merged_data[merged_data['sentiment_analysis'] != 1]  # Excluir sentimiento neutral\n",
    "    \n",
    "    # Agrupar por desarrollador y puntaje de sentimiento, contar la cantidad de resenas\n",
    "    grouped_data = filtered_data.groupby(['developer', 'sentiment_analysis']).size().unstack(fill_value=0)\n",
    "    \n",
    "    # Verificar si el desarrollador está en el DataFrame para manejar excepciones\n",
    "    if desarrollador in grouped_data:\n",
    "        # Extraer cantidad de resenas positivas y negativas para la desarrollador especificada\n",
    "        developer_reviews = grouped_data.loc[desarrollador]\n",
    "    \n",
    "        # Convertir cantidades a formato de lista con claves especificadas\n",
    "        developer_reviews_list = [\n",
    "            {\"Negativas\": developer_reviews.get(0, 0)},\n",
    "            {\"Positivas\": developer_reviews.get(2, 0)}\n",
    "        ]\n",
    "    \n",
    "        return {desarrollador: developer_reviews_list}\n",
    "    else:\n",
    "        return f\"No se encontró información sobre el desarrollador {desarrollador}\"\n"
   ]
  },
  {
   "cell_type": "markdown",
   "metadata": {},
   "source": [
    "*Aplicamos la función y corroboramos que funcione correctamente*"
   ]
  },
  {
   "cell_type": "code",
   "execution_count": 5,
   "metadata": {},
   "outputs": [
    {
     "name": "stdout",
     "output_type": "stream",
     "text": [
      "No se encontró información sobre el desarrollador Valve\n"
     ]
    }
   ],
   "source": [
    "# Example usage:\n",
    "developer = input(\"Ingrese nombre del desarrollador: \")\n",
    "resultado = developer_reviews_analysis(developer)\n",
    "print(resultado)"
   ]
  }
 ],
 "metadata": {
  "kernelspec": {
   "display_name": "Python 3",
   "language": "python",
   "name": "python3"
  },
  "language_info": {
   "codemirror_mode": {
    "name": "ipython",
    "version": 3
   },
   "file_extension": ".py",
   "mimetype": "text/x-python",
   "name": "python",
   "nbconvert_exporter": "python",
   "pygments_lexer": "ipython3",
   "version": "3.11.5"
  }
 },
 "nbformat": 4,
 "nbformat_minor": 2
}
